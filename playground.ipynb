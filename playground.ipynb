{
 "cells": [
  {
   "cell_type": "code",
   "execution_count": 1,
   "id": "cc92de07-0f5a-42e3-8d60-3d24367549ba",
   "metadata": {},
   "outputs": [],
   "source": [
    "%load_ext autoreload"
   ]
  },
  {
   "cell_type": "code",
   "execution_count": 8,
   "id": "d3e3c629-ec93-4be6-9af7-099eb9c1acfa",
   "metadata": {},
   "outputs": [],
   "source": [
    "%autoreload 2"
   ]
  },
  {
   "cell_type": "code",
   "execution_count": 11,
   "id": "ee19d46c-177f-487f-a71e-738d7a57e1ba",
   "metadata": {},
   "outputs": [],
   "source": [
    "from get_RPF.main import var"
   ]
  },
  {
   "cell_type": "code",
   "execution_count": 12,
   "id": "e6268cc5-b147-4782-8cb2-626263f0eba3",
   "metadata": {},
   "outputs": [
    {
     "data": {
      "text/plain": [
       "3"
      ]
     },
     "execution_count": 12,
     "metadata": {},
     "output_type": "execute_result"
    }
   ],
   "source": [
    "var"
   ]
  },
  {
   "cell_type": "code",
   "execution_count": 18,
   "id": "c79767d3-c770-4c27-bdf5-0724400dc538",
   "metadata": {},
   "outputs": [],
   "source": [
    "from Bio.SeqIO.QualityIO import FastqGeneralIterator\n",
    "trim=10\n",
    "handle = open(\"/home/jack/projects/riboseq_database/data/Park2017_Homo_sapiens_GSE97384_SRP103009/fastq/SRR5413155_trimmed.fastq\", \"w\")\n",
    "for title, seq, qual in FastqGeneralIterator(open(\"/home/jack/projects/riboseq_database/data/Park2017_Homo_sapiens_GSE97384_SRP103009/fastq/SRR5413155.fastq\")) :\n",
    "    handle.write(f\"@{title}\\n{seq[trim:]}\\n+\\n{qual[trim:]}\\n\")\n",
    "handle.close()"
   ]
  }
 ],
 "metadata": {
  "kernelspec": {
   "display_name": "Python 3 (ipykernel)",
   "language": "python",
   "name": "python3"
  },
  "language_info": {
   "codemirror_mode": {
    "name": "ipython",
    "version": 3
   },
   "file_extension": ".py",
   "mimetype": "text/x-python",
   "name": "python",
   "nbconvert_exporter": "python",
   "pygments_lexer": "ipython3",
   "version": "3.10.5"
  }
 },
 "nbformat": 4,
 "nbformat_minor": 5
}
